{
 "cells": [
  {
   "cell_type": "markdown",
   "metadata": {},
   "source": [
    "# 1. Setup and Connection"
   ]
  },
  {
   "cell_type": "code",
   "execution_count": null,
   "metadata": {},
   "outputs": [],
   "source": [
    "# Importing important libraries.\n",
    "# One may need to install CherryPy, fitbit, xlvt, xlwt, openpyxl and the below mentioned libraries.\n",
    "# gather_keys_oauth2.py is located in the fitbit package installed.\n",
    "# Make sure it is in the same directory as your notebook.\n",
    "\n",
    "%matplotlib inline\n",
    "import matplotlib.pyplot as plt\n",
    "import fitbit\n",
    "import gather_keys_oauth2 as Oauth2\n",
    "import pandas as pd \n",
    "import datetime\n",
    "import numpy as np\n",
    "from datetime import timedelta"
   ]
  },
  {
   "cell_type": "code",
   "execution_count": 19,
   "metadata": {},
   "outputs": [
    {
     "name": "stderr",
     "output_type": "stream",
     "text": [
      "[17/Jun/2020:12:51:48] ENGINE Listening for SIGTERM.\n",
      "[17/Jun/2020:12:51:48] ENGINE Listening for SIGHUP.\n",
      "[17/Jun/2020:12:51:48] ENGINE Listening for SIGUSR1.\n",
      "[17/Jun/2020:12:51:48] ENGINE Bus STARTING\n",
      "CherryPy Checker:\n",
      "The Application mounted at '' has an empty config.\n",
      "\n",
      "[17/Jun/2020:12:51:48] ENGINE Started monitor thread 'Autoreloader'.\n",
      "[17/Jun/2020:12:51:48] ENGINE Serving on http://127.0.0.1:8080\n",
      "[17/Jun/2020:12:51:48] ENGINE Bus STARTED\n"
     ]
    },
    {
     "name": "stdout",
     "output_type": "stream",
     "text": [
      "127.0.0.1 - - [17/Jun/2020:12:51:52] \"GET /?code=b9538be42533f2f34555ad63dc0829b29eb793a1&state=JWaUXk8cjp1i9cBKcd8M5XO9pVMyaK HTTP/1.1\" 200 122 \"\" \"Mozilla/5.0 (X11; Ubuntu; Linux x86_64; rv:77.0) Gecko/20100101 Firefox/77.0\"\n",
      "127.0.0.1 - - [17/Jun/2020:12:51:52] \"GET /favicon.ico HTTP/1.1\" 200 1406 \"\" \"Mozilla/5.0 (X11; Ubuntu; Linux x86_64; rv:77.0) Gecko/20100101 Firefox/77.0\"\n"
     ]
    },
    {
     "name": "stderr",
     "output_type": "stream",
     "text": [
      "[17/Jun/2020:12:51:53] ENGINE Bus STOPPING\n",
      "[17/Jun/2020:12:51:53] ENGINE HTTP Server cherrypy._cpwsgi_server.CPWSGIServer(('127.0.0.1', 8080)) shut down\n",
      "[17/Jun/2020:12:51:53] ENGINE Stopped thread 'Autoreloader'.\n",
      "[17/Jun/2020:12:51:53] ENGINE Bus STOPPED\n",
      "[17/Jun/2020:12:51:53] ENGINE Bus EXITING\n",
      "[17/Jun/2020:12:51:53] ENGINE Bus EXITED\n",
      "[17/Jun/2020:12:51:53] ENGINE Waiting for child threads to terminate...\n"
     ]
    }
   ],
   "source": [
    "# App Credentials\n",
    "CLIENT_ID='22BN2X'\n",
    "CLIENT_SECRET='d65e1e17d06b5488dc992463341b2d59'\n",
    "\n",
    "# Authorization pipeline\n",
    "# Make sure that the callback URL('http://127.0.0.1:8080/') of your app is same \n",
    "# as the one mentioned in __init__() function of gather_keys_oauth2.py file. \n",
    "# Change as per your needs.\n",
    "server=Oauth2.OAuth2Server(CLIENT_ID, CLIENT_SECRET)\n",
    "server.browser_authorize()\n",
    "ACCESS_TOKEN=str(server.fitbit.client.session.token['access_token'])\n",
    "REFRESH_TOKEN=str(server.fitbit.client.session.token['refresh_token'])\n",
    "auth2_client=fitbit.Fitbit(CLIENT_ID,CLIENT_SECRET,oauth2=True,access_token=ACCESS_TOKEN,refresh_token=REFRESH_TOKEN)"
   ]
  },
  {
   "cell_type": "markdown",
   "metadata": {},
   "source": [
    "# 2. Collection of Heart Data"
   ]
  },
  {
   "cell_type": "code",
   "execution_count": 85,
   "metadata": {},
   "outputs": [],
   "source": [
    "# This format is required for API calls\n",
    "DATE_FORMAT = '%Y-%m-%d'\n",
    "\n",
    "# Utility functions\n",
    "def connectAndLoadDb():\n",
    "    print(\"Connecting database...\")\n",
    "    database = pd.read_excel(databaseFilename)\n",
    "    print(\"Database connected!\")\n",
    "    return database;\n",
    "\n",
    "def getLastEntryDate(database):\n",
    "    lastDateEntry = database.iloc[-1]['Date']\n",
    "    lastDateEntry = datetime.datetime.strptime(lastDateEntry, DATE_FORMAT)    \n",
    "    return lastDateEntry\n",
    "\n",
    "def addEntriesInDB(dictionary, database):\n",
    "    #print(dictionary)\n",
    "    database = database.append(dictionary, ignore_index=True)\n",
    "    return database;\n",
    "\n",
    "def writeDbToExcelFile(database):\n",
    "    print('Writing database to filename: '+ databaseFilename)\n",
    "    writer = pd.ExcelWriter(databaseFilename)\n",
    "    database.to_excel(writer, 'main')\n",
    "    writer.save()\n",
    "    print('Database updated with new entries!!')\n",
    "    \n",
    "def prettyPrintDate(date):\n",
    "    return date.strftime(DATE_FORMAT);"
   ]
  },
  {
   "cell_type": "code",
   "execution_count": 13,
   "metadata": {},
   "outputs": [],
   "source": [
    "# API call to get heart data by seconds\n",
    "def getHeartData(date):\n",
    "    df_list = []\n",
    "    date_list = []\n",
    "    dateStr = prettyPrintDate(date)\n",
    "    oneDayData = auth2_client.intraday_time_series('activities/heart', base_date=dateStr, detail_level='1sec')\n",
    "    df = pd.DataFrame(oneDayData['activities-heart-intraday']['dataset'])\n",
    "    weekDayNum = date.isoweekday()\n",
    "    if len(df):\n",
    "        df.loc[:, 'Date'] = dateStr\n",
    "        df.loc[:, 'Day of Week'] = weekDayNum\n",
    "        df.loc[:, 'Is Weekday'] = weekDayNum < 6\n",
    "        df.loc[:, 'Is Weekend'] = weekDayNum > 5\n",
    "\n",
    "    return df"
   ]
  },
  {
   "cell_type": "code",
   "execution_count": 14,
   "metadata": {},
   "outputs": [],
   "source": [
    "def fetchAllData(date):\n",
    "    dateStr = prettyPrintDate(date)\n",
    "    print(\"Fetching fitbit data for: \" + dateStr) \n",
    "    heartandDateData = getHeartData(date)\n",
    "    return heartandDateData\n",
    "\n",
    "def shouldFetchDataForProvidedDate(providedDate, todaysDate, API_COUNTER):\n",
    "    return (providedDate < todaysDate) and API_COUNTER < 100;\n",
    "\n",
    "def fetchAndAppendToDb(date, database):    \n",
    "    mergedData = fetchAllData(date)\n",
    "    database = database.append(mergedData, ignore_index=True)\n",
    "    return database;\n",
    "\n",
    "def fetchData(database, refetchAll = False):\n",
    "    API_COUNTER = 0\n",
    "    df_list = []\n",
    "    date_list = []\n",
    "    todaysDate = datetime.datetime.today()\n",
    "    \n",
    "    print(\"Date today is :\" + prettyPrintDate(todaysDate))\n",
    "    \n",
    "    if refetchAll == True:\n",
    "        lastEntryDate = datetime.datetime.strptime('2020-04-10', DATE_FORMAT)\n",
    "    else:\n",
    "        lastEntryDate = getLastEntryDate(database)\n",
    "    \n",
    "    print(\"Last entry in Db is of :\" + prettyPrintDate(lastEntryDate))\n",
    "    print(\"----------------------------------------------\")\n",
    "    \n",
    "    dateToFetch = lastEntryDate + timedelta(days=1)\n",
    "    while shouldFetchDataForProvidedDate(dateToFetch, todaysDate, API_COUNTER):    \n",
    "        database = fetchAndAppendToDb(dateToFetch, database)\n",
    "        dateToFetch = dateToFetch + timedelta(days=1)\n",
    "        API_COUNTER = API_COUNTER+1\n",
    "    \n",
    "    print(\"----------------------------------------------\")\n",
    "    print(\"Data fill completed! 👍👍\")\n",
    "    return database"
   ]
  },
  {
   "cell_type": "code",
   "execution_count": null,
   "metadata": {},
   "outputs": [],
   "source": [
    "# database = fetchData(database, True)"
   ]
  },
  {
   "cell_type": "code",
   "execution_count": null,
   "metadata": {},
   "outputs": [],
   "source": [
    "# databaseFilename = 'data/database_micro.xlsx'\n",
    "# writeDbToExcelFile(database)"
   ]
  },
  {
   "cell_type": "markdown",
   "metadata": {},
   "source": [
    "# 3. Add Time to Date Data"
   ]
  },
  {
   "cell_type": "code",
   "execution_count": 87,
   "metadata": {},
   "outputs": [
    {
     "name": "stdout",
     "output_type": "stream",
     "text": [
      "Connecting database...\n",
      "Database connected!\n"
     ]
    }
   ],
   "source": [
    "database = connectAndLoadDb()\n",
    "database = database.loc[:, ~database.columns.str.contains('^Unnamed')]"
   ]
  },
  {
   "cell_type": "code",
   "execution_count": 47,
   "metadata": {},
   "outputs": [],
   "source": [
    "final_df = database.copy()\n",
    "hoursDelta = pd.to_datetime(final_df.loc[:, 'time']).dt.hour.apply(lambda x: datetime.timedelta(hours = x))\n",
    "minutesDelta = pd.to_datetime(final_df.loc[:, 'time']).dt.minute.apply(lambda x: datetime.timedelta(minutes = x))\n",
    "secondsDelta = pd.to_datetime(final_df.loc[:, 'time']).dt.second.apply(lambda x: datetime.timedelta(seconds = x))"
   ]
  },
  {
   "cell_type": "code",
   "execution_count": 48,
   "metadata": {},
   "outputs": [],
   "source": [
    "final_df['Date'] = final_df['Date'] + hoursDelta + minutesDelta + secondsDelta"
   ]
  },
  {
   "cell_type": "code",
   "execution_count": 50,
   "metadata": {},
   "outputs": [
    {
     "name": "stdout",
     "output_type": "stream",
     "text": [
      "Writing database to filename: data/database_microdHMS.xlsx\n",
      "Database updated with new entries!!\n"
     ]
    }
   ],
   "source": [
    "databaseFilename = 'data/database_microdHMS.xlsx'\n",
    "writeDbToExcelFile(final_df)"
   ]
  },
  {
   "cell_type": "code",
   "execution_count": 86,
   "metadata": {},
   "outputs": [
    {
     "data": {
      "text/html": [
       "<div>\n",
       "<style scoped>\n",
       "    .dataframe tbody tr th:only-of-type {\n",
       "        vertical-align: middle;\n",
       "    }\n",
       "\n",
       "    .dataframe tbody tr th {\n",
       "        vertical-align: top;\n",
       "    }\n",
       "\n",
       "    .dataframe thead th {\n",
       "        text-align: right;\n",
       "    }\n",
       "</style>\n",
       "<table border=\"1\" class=\"dataframe\">\n",
       "  <thead>\n",
       "    <tr style=\"text-align: right;\">\n",
       "      <th></th>\n",
       "      <th>time</th>\n",
       "      <th>value</th>\n",
       "      <th>Date</th>\n",
       "      <th>Day of Week</th>\n",
       "      <th>Is Weekday</th>\n",
       "      <th>Is Weekend</th>\n",
       "    </tr>\n",
       "  </thead>\n",
       "  <tbody>\n",
       "    <tr>\n",
       "      <th>0</th>\n",
       "      <td>00:00:04</td>\n",
       "      <td>80</td>\n",
       "      <td>2020-04-11</td>\n",
       "      <td>6</td>\n",
       "      <td>False</td>\n",
       "      <td>True</td>\n",
       "    </tr>\n",
       "    <tr>\n",
       "      <th>1</th>\n",
       "      <td>00:00:09</td>\n",
       "      <td>79</td>\n",
       "      <td>2020-04-11</td>\n",
       "      <td>6</td>\n",
       "      <td>False</td>\n",
       "      <td>True</td>\n",
       "    </tr>\n",
       "    <tr>\n",
       "      <th>2</th>\n",
       "      <td>00:00:14</td>\n",
       "      <td>78</td>\n",
       "      <td>2020-04-11</td>\n",
       "      <td>6</td>\n",
       "      <td>False</td>\n",
       "      <td>True</td>\n",
       "    </tr>\n",
       "    <tr>\n",
       "      <th>3</th>\n",
       "      <td>00:00:29</td>\n",
       "      <td>80</td>\n",
       "      <td>2020-04-11</td>\n",
       "      <td>6</td>\n",
       "      <td>False</td>\n",
       "      <td>True</td>\n",
       "    </tr>\n",
       "    <tr>\n",
       "      <th>4</th>\n",
       "      <td>00:00:34</td>\n",
       "      <td>81</td>\n",
       "      <td>2020-04-11</td>\n",
       "      <td>6</td>\n",
       "      <td>False</td>\n",
       "      <td>True</td>\n",
       "    </tr>\n",
       "  </tbody>\n",
       "</table>\n",
       "</div>"
      ],
      "text/plain": [
       "       time  value       Date  Day of Week  Is Weekday  Is Weekend\n",
       "0  00:00:04     80 2020-04-11            6       False        True\n",
       "1  00:00:09     79 2020-04-11            6       False        True\n",
       "2  00:00:14     78 2020-04-11            6       False        True\n",
       "3  00:00:29     80 2020-04-11            6       False        True\n",
       "4  00:00:34     81 2020-04-11            6       False        True"
      ]
     },
     "execution_count": 86,
     "metadata": {},
     "output_type": "execute_result"
    }
   ],
   "source": [
    "database.head()"
   ]
  },
  {
   "cell_type": "code",
   "execution_count": 58,
   "metadata": {},
   "outputs": [],
   "source": [
    "final_df['HourMinute'] = final_df['time'].str.slice(start=0, stop=5)\n",
    "final_df['Hour'] = final_df['time'].str.slice(start=0, stop=2)"
   ]
  },
  {
   "cell_type": "code",
   "execution_count": 88,
   "metadata": {},
   "outputs": [
    {
     "data": {
      "text/html": [
       "<div>\n",
       "<style scoped>\n",
       "    .dataframe tbody tr th:only-of-type {\n",
       "        vertical-align: middle;\n",
       "    }\n",
       "\n",
       "    .dataframe tbody tr th {\n",
       "        vertical-align: top;\n",
       "    }\n",
       "\n",
       "    .dataframe thead th {\n",
       "        text-align: right;\n",
       "    }\n",
       "</style>\n",
       "<table border=\"1\" class=\"dataframe\">\n",
       "  <thead>\n",
       "    <tr style=\"text-align: right;\">\n",
       "      <th></th>\n",
       "      <th>time</th>\n",
       "      <th>value</th>\n",
       "      <th>Date</th>\n",
       "      <th>Day of Week</th>\n",
       "      <th>Is Weekday</th>\n",
       "      <th>Is Weekend</th>\n",
       "      <th>HourMinute</th>\n",
       "      <th>Hour</th>\n",
       "    </tr>\n",
       "  </thead>\n",
       "  <tbody>\n",
       "    <tr>\n",
       "      <th>0</th>\n",
       "      <td>00:00:04</td>\n",
       "      <td>80</td>\n",
       "      <td>2020-04-11 00:00:04</td>\n",
       "      <td>6</td>\n",
       "      <td>False</td>\n",
       "      <td>True</td>\n",
       "      <td>00:00</td>\n",
       "      <td>0</td>\n",
       "    </tr>\n",
       "    <tr>\n",
       "      <th>1</th>\n",
       "      <td>00:00:09</td>\n",
       "      <td>79</td>\n",
       "      <td>2020-04-11 00:00:09</td>\n",
       "      <td>6</td>\n",
       "      <td>False</td>\n",
       "      <td>True</td>\n",
       "      <td>00:00</td>\n",
       "      <td>0</td>\n",
       "    </tr>\n",
       "    <tr>\n",
       "      <th>2</th>\n",
       "      <td>00:00:14</td>\n",
       "      <td>78</td>\n",
       "      <td>2020-04-11 00:00:14</td>\n",
       "      <td>6</td>\n",
       "      <td>False</td>\n",
       "      <td>True</td>\n",
       "      <td>00:00</td>\n",
       "      <td>0</td>\n",
       "    </tr>\n",
       "    <tr>\n",
       "      <th>3</th>\n",
       "      <td>00:00:29</td>\n",
       "      <td>80</td>\n",
       "      <td>2020-04-11 00:00:29</td>\n",
       "      <td>6</td>\n",
       "      <td>False</td>\n",
       "      <td>True</td>\n",
       "      <td>00:00</td>\n",
       "      <td>0</td>\n",
       "    </tr>\n",
       "    <tr>\n",
       "      <th>4</th>\n",
       "      <td>00:00:34</td>\n",
       "      <td>81</td>\n",
       "      <td>2020-04-11 00:00:34</td>\n",
       "      <td>6</td>\n",
       "      <td>False</td>\n",
       "      <td>True</td>\n",
       "      <td>00:00</td>\n",
       "      <td>0</td>\n",
       "    </tr>\n",
       "  </tbody>\n",
       "</table>\n",
       "</div>"
      ],
      "text/plain": [
       "       time  value                Date  Day of Week  Is Weekday  Is Weekend  \\\n",
       "0  00:00:04     80 2020-04-11 00:00:04            6       False        True   \n",
       "1  00:00:09     79 2020-04-11 00:00:09            6       False        True   \n",
       "2  00:00:14     78 2020-04-11 00:00:14            6       False        True   \n",
       "3  00:00:29     80 2020-04-11 00:00:29            6       False        True   \n",
       "4  00:00:34     81 2020-04-11 00:00:34            6       False        True   \n",
       "\n",
       "  HourMinute  Hour  \n",
       "0      00:00     0  \n",
       "1      00:00     0  \n",
       "2      00:00     0  \n",
       "3      00:00     0  \n",
       "4      00:00     0  "
      ]
     },
     "execution_count": 88,
     "metadata": {},
     "output_type": "execute_result"
    }
   ],
   "source": [
    "final_df.head()"
   ]
  },
  {
   "cell_type": "code",
   "execution_count": 180,
   "metadata": {},
   "outputs": [
    {
     "data": {
      "text/plain": [
       "<matplotlib.legend.Legend at 0x7f49efed9d30>"
      ]
     },
     "execution_count": 180,
     "metadata": {},
     "output_type": "execute_result"
    },
    {
     "data": {
      "image/png": "[encoded data removed]",
      "text/plain": [
       "<Figure size 432x288 with 1 Axes>"
      ]
     },
     "metadata": {
      "needs_background": "light"
     },
     "output_type": "display_data"
    }
   ],
   "source": [
    "# this fixed the problem.\n",
    "final_df.plot('Date', 'value')\n",
    "plt.legend('')"
   ]
  },
  {
   "cell_type": "code",
   "execution_count": 89,
   "metadata": {},
   "outputs": [],
   "source": [
    "## Looking at a couple days only. \n",
    "startDate = datetime.datetime(year = 2020, month = 5, day = 15)\n",
    "lastDate = datetime.datetime(year = 2020, month = 5, day = 27)\n",
    "\n",
    "coupledays_df = final_df.loc[database.loc[:, 'Date'].between(startDate, lastDate), :]"
   ]
  },
  {
   "cell_type": "code",
   "execution_count": 90,
   "metadata": {},
   "outputs": [
    {
     "data": {
      "text/plain": [
       "<matplotlib.legend.Legend at 0x7f48a29e8860>"
      ]
     },
     "execution_count": 90,
     "metadata": {},
     "output_type": "execute_result"
    },
    {
     "data": {
      "image/png": "[encoded data removed]",
      "text/plain": [
       "<Figure size 432x288 with 1 Axes>"
      ]
     },
     "metadata": {
      "needs_background": "light"
     },
     "output_type": "display_data"
    }
   ],
   "source": [
    "coupledays_df.plot('Date', 'value')\n",
    "plt.legend('')"
   ]
  },
  {
   "cell_type": "code",
   "execution_count": 187,
   "metadata": {},
   "outputs": [
    {
     "data": {
      "image/png": "[encoded data removed]",
      "text/plain": [
       "<Figure size 720x504 with 1 Axes>"
      ]
     },
     "metadata": {
      "needs_background": "light"
     },
     "output_type": "display_data"
    }
   ],
   "source": [
    "fig, ax = plt.subplots(figsize=(10, 7))\n",
    "\n",
    "times = pd.to_datetime(coupledays_df['Date'])\n",
    "coupledays_df.groupby([times.dt.date,times.dt.hour]).value.mean().plot(ax = ax)\n",
    "\n",
    "ax.grid(True,\n",
    "    axis = 'both',\n",
    "    zorder = 0,\n",
    "    linestyle = ':',\n",
    "    color = 'k')\n",
    "ax.tick_params(axis = 'both', rotation = 45, labelsize = 20)\n",
    "ax.set_xlabel('Date, Hour', fontsize = 24)\n",
    "ax.set_ylabel('Heart Rate', fontsize = 24)\n",
    "fig.tight_layout()\n",
    "fig.savefig('coupledaysavergedByMin.png', format = 'png', dpi = 300)"
   ]
  },
  {
   "cell_type": "markdown",
   "metadata": {},
   "source": [
    "# 4. Collect resting Heart Rate"
   ]
  },
  {
   "cell_type": "code",
   "execution_count": 30,
   "metadata": {},
   "outputs": [],
   "source": [
    "def fetchAllData(date):\n",
    "    dateStr = prettyPrintDate(date)\n",
    "    print(\"Fetching fitbit data for: \" + dateStr) \n",
    "    oneDayData = auth2_client.intraday_time_series('activities/heart', base_date=dateStr, detail_level='1sec')\n",
    "    return oneDayData\n",
    "\n",
    "def shouldFetchDataForProvidedDate(providedDate, todaysDate, API_COUNTER):\n",
    "    return (providedDate < todaysDate) and API_COUNTER < 100;\n",
    "\n",
    "def fetchAndAppend(date):    \n",
    "    oneDayData = fetchAllData(date)\n",
    "    dateStr = prettyPrintDate(date)\n",
    "    if 'restingHeartRate' in oneDayData['activities-heart'][0]['value'].keys():\n",
    "        resting_list.append(oneDayData['activities-heart'][0]['value']['restingHeartRate'])\n",
    "        date_list.append(dateStr)\n",
    "\n",
    "def fetchRestingData(refetchAll = False):\n",
    "    API_COUNTER = 0\n",
    "    df_list = []\n",
    "    date_list = []\n",
    "    todaysDate = datetime.datetime.today()\n",
    "    \n",
    "    print(\"Date today is :\" + prettyPrintDate(todaysDate))\n",
    "    \n",
    "    if refetchAll == True:\n",
    "        lastEntryDate = datetime.datetime.strptime('2020-04-10', DATE_FORMAT)\n",
    "    else:\n",
    "        lastEntryDate = date_list[-1]\n",
    "    \n",
    "    print(\"Last entry in Db is of :\" + prettyPrintDate(lastEntryDate))\n",
    "    print(\"----------------------------------------------\")\n",
    "    \n",
    "    dateToFetch = lastEntryDate + timedelta(days=1)\n",
    "    while shouldFetchDataForProvidedDate(dateToFetch, todaysDate, API_COUNTER):    \n",
    "        fetchAndAppend(dateToFetch)\n",
    "        dateToFetch = dateToFetch + timedelta(days=1)\n",
    "        API_COUNTER = API_COUNTER+1\n",
    "    \n",
    "    print(\"----------------------------------------------\")\n",
    "    print(\"Data fill completed! 👍👍\")"
   ]
  },
  {
   "cell_type": "code",
   "execution_count": 36,
   "metadata": {},
   "outputs": [],
   "source": [
    "# date_list = []\n",
    "# resting_list = []\n",
    "# DATE_FORMAT = '%Y-%m-%d'\n",
    "# databaseFilename = 'data/database_microRHR.xlsx'"
   ]
  },
  {
   "cell_type": "code",
   "execution_count": 37,
   "metadata": {},
   "outputs": [
    {
     "name": "stdout",
     "output_type": "stream",
     "text": [
      "Date today is :2020-06-17\n",
      "Last entry in Db is of :2020-04-10\n",
      "----------------------------------------------\n",
      "Fetching fitbit data for: 2020-04-11\n",
      "Fetching fitbit data for: 2020-04-12\n",
      "Fetching fitbit data for: 2020-04-13\n",
      "Fetching fitbit data for: 2020-04-14\n",
      "Fetching fitbit data for: 2020-04-15\n",
      "Fetching fitbit data for: 2020-04-16\n",
      "Fetching fitbit data for: 2020-04-17\n",
      "Fetching fitbit data for: 2020-04-18\n",
      "Fetching fitbit data for: 2020-04-19\n",
      "Fetching fitbit data for: 2020-04-20\n",
      "Fetching fitbit data for: 2020-04-21\n",
      "Fetching fitbit data for: 2020-04-22\n",
      "Fetching fitbit data for: 2020-04-23\n",
      "Fetching fitbit data for: 2020-04-24\n",
      "Fetching fitbit data for: 2020-04-25\n",
      "Fetching fitbit data for: 2020-04-26\n",
      "Fetching fitbit data for: 2020-04-27\n",
      "Fetching fitbit data for: 2020-04-28\n",
      "Fetching fitbit data for: 2020-04-29\n",
      "Fetching fitbit data for: 2020-04-30\n",
      "Fetching fitbit data for: 2020-05-01\n",
      "Fetching fitbit data for: 2020-05-02\n",
      "Fetching fitbit data for: 2020-05-03\n",
      "Fetching fitbit data for: 2020-05-04\n",
      "Fetching fitbit data for: 2020-05-05\n",
      "Fetching fitbit data for: 2020-05-06\n",
      "Fetching fitbit data for: 2020-05-07\n",
      "Fetching fitbit data for: 2020-05-08\n",
      "Fetching fitbit data for: 2020-05-09\n",
      "Fetching fitbit data for: 2020-05-10\n",
      "Fetching fitbit data for: 2020-05-11\n",
      "Fetching fitbit data for: 2020-05-12\n",
      "Fetching fitbit data for: 2020-05-13\n",
      "Fetching fitbit data for: 2020-05-14\n",
      "Fetching fitbit data for: 2020-05-15\n",
      "Fetching fitbit data for: 2020-05-16\n",
      "Fetching fitbit data for: 2020-05-17\n",
      "Fetching fitbit data for: 2020-05-18\n",
      "Fetching fitbit data for: 2020-05-19\n",
      "Fetching fitbit data for: 2020-05-20\n",
      "Fetching fitbit data for: 2020-05-21\n",
      "Fetching fitbit data for: 2020-05-22\n",
      "Fetching fitbit data for: 2020-05-23\n",
      "Fetching fitbit data for: 2020-05-24\n",
      "Fetching fitbit data for: 2020-05-25\n",
      "Fetching fitbit data for: 2020-05-26\n",
      "Fetching fitbit data for: 2020-05-27\n",
      "Fetching fitbit data for: 2020-05-28\n",
      "Fetching fitbit data for: 2020-05-29\n",
      "Fetching fitbit data for: 2020-05-30\n",
      "Fetching fitbit data for: 2020-05-31\n",
      "Fetching fitbit data for: 2020-06-01\n",
      "Fetching fitbit data for: 2020-06-02\n",
      "Fetching fitbit data for: 2020-06-03\n",
      "Fetching fitbit data for: 2020-06-04\n",
      "Fetching fitbit data for: 2020-06-05\n",
      "Fetching fitbit data for: 2020-06-06\n",
      "Fetching fitbit data for: 2020-06-07\n",
      "Fetching fitbit data for: 2020-06-08\n",
      "Fetching fitbit data for: 2020-06-09\n",
      "Fetching fitbit data for: 2020-06-10\n",
      "Fetching fitbit data for: 2020-06-11\n",
      "Fetching fitbit data for: 2020-06-12\n",
      "Fetching fitbit data for: 2020-06-13\n",
      "Fetching fitbit data for: 2020-06-14\n",
      "Fetching fitbit data for: 2020-06-15\n",
      "Fetching fitbit data for: 2020-06-16\n",
      "Fetching fitbit data for: 2020-06-17\n",
      "----------------------------------------------\n",
      "Data fill completed! 👍👍\n"
     ]
    }
   ],
   "source": [
    "# fetchRestingData(refetchAll = True)"
   ]
  },
  {
   "cell_type": "code",
   "execution_count": 38,
   "metadata": {},
   "outputs": [
    {
     "data": {
      "image/png": "[encoded data removed]",
      "text/plain": [
       "<Figure size 720x504 with 1 Axes>"
      ]
     },
     "metadata": {
      "needs_background": "light"
     },
     "output_type": "display_data"
    }
   ],
   "source": [
    "fig, ax = plt.subplots(figsize=(10, 7))\n",
    "\n",
    "ax.plot(date_list, resting_list )\n",
    "\n",
    "# This is just making it so there isnt a grid line or text for every point\n",
    "xtick_list = []\n",
    "xticklabel_list = []\n",
    "for index, label in enumerate(ax.get_xticklabels()):\n",
    "    if index % 5 == 0:\n",
    "        xticklabel_list.append(label)\n",
    "        xtick_list.append(index)\n",
    "\n",
    "ax.grid(True,\n",
    "    axis = 'both',\n",
    "    zorder = 0,\n",
    "    linestyle = ':',\n",
    "    color = 'k')\n",
    "ax.tick_params(axis = 'both', labelsize = 20)\n",
    "ax.set_xticks(xtick_list)\n",
    "ax.tick_params(axis = 'x', rotation = 90,labelsize = 20)\n",
    "ax.set_xlim(0, index)\n",
    "#ax.set_xticklabels(ax.get_xticklabels(),rotation = 45, rotation_mode=\"anchor\", ha = 'right')\n",
    "ax.set_xlabel('Date', fontsize = 24)\n",
    "ax.set_ylabel('Resting Heart Rate', fontsize = 24)\n",
    "fig.tight_layout()\n",
    "fig.savefig('restingHR_graph.png', format = 'png', dpi = 300)\n"
   ]
  },
  {
   "cell_type": "code",
   "execution_count": 39,
   "metadata": {},
   "outputs": [
    {
     "data": {
      "text/html": [
       "<div>\n",
       "<style scoped>\n",
       "    .dataframe tbody tr th:only-of-type {\n",
       "        vertical-align: middle;\n",
       "    }\n",
       "\n",
       "    .dataframe tbody tr th {\n",
       "        vertical-align: top;\n",
       "    }\n",
       "\n",
       "    .dataframe thead th {\n",
       "        text-align: right;\n",
       "    }\n",
       "</style>\n",
       "<table border=\"1\" class=\"dataframe\">\n",
       "  <thead>\n",
       "    <tr style=\"text-align: right;\">\n",
       "      <th></th>\n",
       "      <th>date</th>\n",
       "      <th>RHR</th>\n",
       "    </tr>\n",
       "  </thead>\n",
       "  <tbody>\n",
       "    <tr>\n",
       "      <th>0</th>\n",
       "      <td>2020-04-11</td>\n",
       "      <td>62</td>\n",
       "    </tr>\n",
       "    <tr>\n",
       "      <th>1</th>\n",
       "      <td>2020-04-13</td>\n",
       "      <td>62</td>\n",
       "    </tr>\n",
       "    <tr>\n",
       "      <th>2</th>\n",
       "      <td>2020-04-14</td>\n",
       "      <td>62</td>\n",
       "    </tr>\n",
       "    <tr>\n",
       "      <th>3</th>\n",
       "      <td>2020-04-15</td>\n",
       "      <td>63</td>\n",
       "    </tr>\n",
       "    <tr>\n",
       "      <th>4</th>\n",
       "      <td>2020-04-16</td>\n",
       "      <td>63</td>\n",
       "    </tr>\n",
       "  </tbody>\n",
       "</table>\n",
       "</div>"
      ],
      "text/plain": [
       "         date  RHR\n",
       "0  2020-04-11   62\n",
       "1  2020-04-13   62\n",
       "2  2020-04-14   62\n",
       "3  2020-04-15   63\n",
       "4  2020-04-16   63"
      ]
     },
     "execution_count": 39,
     "metadata": {},
     "output_type": "execute_result"
    }
   ],
   "source": [
    "resting_df = pd.DataFrame({'date': date_list, 'RHR': resting_list})\n",
    "resting_df.head()"
   ]
  },
  {
   "cell_type": "code",
   "execution_count": 40,
   "metadata": {},
   "outputs": [
    {
     "name": "stdout",
     "output_type": "stream",
     "text": [
      "Writing database to filename: data/database_microRHR.xlsx\n",
      "Database updated with new entries!!\n"
     ]
    }
   ],
   "source": [
    "writeDbToExcelFile(resting_df)"
   ]
  },
  {
   "cell_type": "markdown",
   "metadata": {},
   "source": [
    "# 5. Analysis of Heart Data"
   ]
  },
  {
   "cell_type": "code",
   "execution_count": 41,
   "metadata": {},
   "outputs": [],
   "source": [
    "def summary_stat(df, col_name): #function to provide median, min, and max of data\n",
    "    df = pd.DataFrame({'Mean ' : str(round(np.mean(df[col_name]),2)),\n",
    "         'Median' : str(np.median(df[col_name])),\n",
    "         'Min' : str(np.min(df[col_name])),\n",
    "         'Max' : str(np.max(df[col_name]))}, index=[0])\n",
    "    return df"
   ]
  },
  {
   "cell_type": "code",
   "execution_count": 52,
   "metadata": {},
   "outputs": [
    {
     "data": {
      "text/html": [
       "<div>\n",
       "<style scoped>\n",
       "    .dataframe tbody tr th:only-of-type {\n",
       "        vertical-align: middle;\n",
       "    }\n",
       "\n",
       "    .dataframe tbody tr th {\n",
       "        vertical-align: top;\n",
       "    }\n",
       "\n",
       "    .dataframe thead th {\n",
       "        text-align: right;\n",
       "    }\n",
       "</style>\n",
       "<table border=\"1\" class=\"dataframe\">\n",
       "  <thead>\n",
       "    <tr style=\"text-align: right;\">\n",
       "      <th></th>\n",
       "      <th>Mean</th>\n",
       "      <th>Median</th>\n",
       "      <th>Min</th>\n",
       "      <th>Max</th>\n",
       "    </tr>\n",
       "  </thead>\n",
       "  <tbody>\n",
       "    <tr>\n",
       "      <th>0</th>\n",
       "      <td>83.9</td>\n",
       "      <td>84.0</td>\n",
       "      <td>36</td>\n",
       "      <td>220</td>\n",
       "    </tr>\n",
       "  </tbody>\n",
       "</table>\n",
       "</div>"
      ],
      "text/plain": [
       "  Mean  Median Min  Max\n",
       "0  83.9   84.0  36  220"
      ]
     },
     "execution_count": 52,
     "metadata": {},
     "output_type": "execute_result"
    }
   ],
   "source": [
    "summary_stat(final_df, 'value')"
   ]
  },
  {
   "cell_type": "markdown",
   "metadata": {},
   "source": [
    "A bit of a right skew. But seems pretty close."
   ]
  },
  {
   "cell_type": "code",
   "execution_count": 56,
   "metadata": {},
   "outputs": [
    {
     "name": "stderr",
     "output_type": "stream",
     "text": [
      "/home/abdulkk49/.local/lib/python3.6/site-packages/ipykernel_launcher.py:6: MatplotlibDeprecationWarning: Adding an axes using the same arguments as a previous axes currently reuses the earlier instance.  In a future version, a new instance will always be created and returned.  Meanwhile, this warning can be suppressed, and the future behavior ensured, by passing a unique label to each axes instance.\n",
      "  \n"
     ]
    },
    {
     "data": {
      "text/plain": [
       "Text(50, -3000, 'By Abdul')"
      ]
     },
     "execution_count": 56,
     "metadata": {},
     "output_type": "execute_result"
    },
    {
     "data": {
      "image/png": "[encoded data removed]",
      "text/plain": [
       "<Figure size 864x648 with 1 Axes>"
      ]
     },
     "metadata": {
      "needs_background": "light"
     },
     "output_type": "display_data"
    }
   ],
   "source": [
    "HR = final_df['value']\n",
    "plt.figure(figsize=(12, 9)) \n",
    "plt.hist(HR, range=(np.min(HR),np.max(HR)),\n",
    "         linewidth=2,color=\"#3F5D7D\", bins=100,edgecolor='black')\n",
    "\n",
    "ax = plt.subplot(111)  \n",
    "ax.spines[\"top\"].set_visible(False)  \n",
    "ax.spines[\"right\"].set_visible(False)  \n",
    "\n",
    "ax.get_xaxis().tick_bottom()  \n",
    "ax.get_yaxis().tick_left()\n",
    "plt.xticks(fontsize=14)  \n",
    "plt.yticks(fontsize=14)  \n",
    "\n",
    "plt.title('Heart Rate Histogram', fontsize=16)\n",
    "plt.xlabel('Heart Rate', fontsize=16)\n",
    "plt.ylabel('Counts')\n",
    "\n",
    "plt.text(50,-3000, \"By Abdul\",\n",
    "         fontsize=10)"
   ]
  },
  {
   "cell_type": "code",
   "execution_count": 59,
   "metadata": {},
   "outputs": [
    {
     "data": {
      "text/html": [
       "<div>\n",
       "<style scoped>\n",
       "    .dataframe tbody tr th:only-of-type {\n",
       "        vertical-align: middle;\n",
       "    }\n",
       "\n",
       "    .dataframe tbody tr th {\n",
       "        vertical-align: top;\n",
       "    }\n",
       "\n",
       "    .dataframe thead th {\n",
       "        text-align: right;\n",
       "    }\n",
       "</style>\n",
       "<table border=\"1\" class=\"dataframe\">\n",
       "  <thead>\n",
       "    <tr style=\"text-align: right;\">\n",
       "      <th></th>\n",
       "      <th>time</th>\n",
       "      <th>value</th>\n",
       "      <th>Date</th>\n",
       "      <th>Day of Week</th>\n",
       "      <th>Is Weekday</th>\n",
       "      <th>Is Weekend</th>\n",
       "      <th>HourMinute</th>\n",
       "      <th>Hour</th>\n",
       "    </tr>\n",
       "  </thead>\n",
       "  <tbody>\n",
       "    <tr>\n",
       "      <th>0</th>\n",
       "      <td>00:00:04</td>\n",
       "      <td>80</td>\n",
       "      <td>2020-04-11 00:00:04</td>\n",
       "      <td>6</td>\n",
       "      <td>False</td>\n",
       "      <td>True</td>\n",
       "      <td>00:00</td>\n",
       "      <td>00</td>\n",
       "    </tr>\n",
       "    <tr>\n",
       "      <th>1</th>\n",
       "      <td>00:00:09</td>\n",
       "      <td>79</td>\n",
       "      <td>2020-04-11 00:00:09</td>\n",
       "      <td>6</td>\n",
       "      <td>False</td>\n",
       "      <td>True</td>\n",
       "      <td>00:00</td>\n",
       "      <td>00</td>\n",
       "    </tr>\n",
       "    <tr>\n",
       "      <th>2</th>\n",
       "      <td>00:00:14</td>\n",
       "      <td>78</td>\n",
       "      <td>2020-04-11 00:00:14</td>\n",
       "      <td>6</td>\n",
       "      <td>False</td>\n",
       "      <td>True</td>\n",
       "      <td>00:00</td>\n",
       "      <td>00</td>\n",
       "    </tr>\n",
       "    <tr>\n",
       "      <th>3</th>\n",
       "      <td>00:00:29</td>\n",
       "      <td>80</td>\n",
       "      <td>2020-04-11 00:00:29</td>\n",
       "      <td>6</td>\n",
       "      <td>False</td>\n",
       "      <td>True</td>\n",
       "      <td>00:00</td>\n",
       "      <td>00</td>\n",
       "    </tr>\n",
       "    <tr>\n",
       "      <th>4</th>\n",
       "      <td>00:00:34</td>\n",
       "      <td>81</td>\n",
       "      <td>2020-04-11 00:00:34</td>\n",
       "      <td>6</td>\n",
       "      <td>False</td>\n",
       "      <td>True</td>\n",
       "      <td>00:00</td>\n",
       "      <td>00</td>\n",
       "    </tr>\n",
       "  </tbody>\n",
       "</table>\n",
       "</div>"
      ],
      "text/plain": [
       "       time  value                Date  Day of Week  Is Weekday  Is Weekend  \\\n",
       "0  00:00:04     80 2020-04-11 00:00:04            6       False        True   \n",
       "1  00:00:09     79 2020-04-11 00:00:09            6       False        True   \n",
       "2  00:00:14     78 2020-04-11 00:00:14            6       False        True   \n",
       "3  00:00:29     80 2020-04-11 00:00:29            6       False        True   \n",
       "4  00:00:34     81 2020-04-11 00:00:34            6       False        True   \n",
       "\n",
       "  HourMinute Hour  \n",
       "0      00:00   00  \n",
       "1      00:00   00  \n",
       "2      00:00   00  \n",
       "3      00:00   00  \n",
       "4      00:00   00  "
      ]
     },
     "execution_count": 59,
     "metadata": {},
     "output_type": "execute_result"
    }
   ],
   "source": [
    "final_df.head()"
   ]
  },
  {
   "cell_type": "code",
   "execution_count": 62,
   "metadata": {
    "scrolled": true
   },
   "outputs": [
    {
     "data": {
      "text/html": [
       "<div>\n",
       "<style scoped>\n",
       "    .dataframe tbody tr th:only-of-type {\n",
       "        vertical-align: middle;\n",
       "    }\n",
       "\n",
       "    .dataframe tbody tr th {\n",
       "        vertical-align: top;\n",
       "    }\n",
       "\n",
       "    .dataframe thead th {\n",
       "        text-align: right;\n",
       "    }\n",
       "</style>\n",
       "<table border=\"1\" class=\"dataframe\">\n",
       "  <thead>\n",
       "    <tr style=\"text-align: right;\">\n",
       "      <th></th>\n",
       "      <th>value</th>\n",
       "      <th>Day of Week</th>\n",
       "      <th>Is Weekday</th>\n",
       "      <th>Is Weekend</th>\n",
       "    </tr>\n",
       "    <tr>\n",
       "      <th>Hour</th>\n",
       "      <th></th>\n",
       "      <th></th>\n",
       "      <th></th>\n",
       "      <th></th>\n",
       "    </tr>\n",
       "  </thead>\n",
       "  <tbody>\n",
       "    <tr>\n",
       "      <th>00</th>\n",
       "      <td>83.224693</td>\n",
       "      <td>3.809129</td>\n",
       "      <td>0.753308</td>\n",
       "      <td>0.246692</td>\n",
       "    </tr>\n",
       "    <tr>\n",
       "      <th>01</th>\n",
       "      <td>79.996643</td>\n",
       "      <td>3.834664</td>\n",
       "      <td>0.751770</td>\n",
       "      <td>0.248230</td>\n",
       "    </tr>\n",
       "    <tr>\n",
       "      <th>02</th>\n",
       "      <td>76.431451</td>\n",
       "      <td>3.835547</td>\n",
       "      <td>0.744612</td>\n",
       "      <td>0.255388</td>\n",
       "    </tr>\n",
       "    <tr>\n",
       "      <th>03</th>\n",
       "      <td>73.508571</td>\n",
       "      <td>3.803566</td>\n",
       "      <td>0.756832</td>\n",
       "      <td>0.243168</td>\n",
       "    </tr>\n",
       "    <tr>\n",
       "      <th>04</th>\n",
       "      <td>71.064798</td>\n",
       "      <td>3.793712</td>\n",
       "      <td>0.757840</td>\n",
       "      <td>0.242160</td>\n",
       "    </tr>\n",
       "    <tr>\n",
       "      <th>05</th>\n",
       "      <td>69.516867</td>\n",
       "      <td>3.805116</td>\n",
       "      <td>0.758793</td>\n",
       "      <td>0.241207</td>\n",
       "    </tr>\n",
       "    <tr>\n",
       "      <th>06</th>\n",
       "      <td>68.762541</td>\n",
       "      <td>3.821905</td>\n",
       "      <td>0.759212</td>\n",
       "      <td>0.240788</td>\n",
       "    </tr>\n",
       "    <tr>\n",
       "      <th>07</th>\n",
       "      <td>68.950937</td>\n",
       "      <td>3.789403</td>\n",
       "      <td>0.756589</td>\n",
       "      <td>0.243411</td>\n",
       "    </tr>\n",
       "    <tr>\n",
       "      <th>08</th>\n",
       "      <td>72.739450</td>\n",
       "      <td>3.879019</td>\n",
       "      <td>0.735021</td>\n",
       "      <td>0.264979</td>\n",
       "    </tr>\n",
       "    <tr>\n",
       "      <th>09</th>\n",
       "      <td>80.289688</td>\n",
       "      <td>3.986074</td>\n",
       "      <td>0.723528</td>\n",
       "      <td>0.276472</td>\n",
       "    </tr>\n",
       "    <tr>\n",
       "      <th>10</th>\n",
       "      <td>87.236786</td>\n",
       "      <td>4.073271</td>\n",
       "      <td>0.702094</td>\n",
       "      <td>0.297906</td>\n",
       "    </tr>\n",
       "    <tr>\n",
       "      <th>11</th>\n",
       "      <td>87.301335</td>\n",
       "      <td>4.014797</td>\n",
       "      <td>0.689110</td>\n",
       "      <td>0.310890</td>\n",
       "    </tr>\n",
       "    <tr>\n",
       "      <th>12</th>\n",
       "      <td>89.808862</td>\n",
       "      <td>3.942018</td>\n",
       "      <td>0.703494</td>\n",
       "      <td>0.296506</td>\n",
       "    </tr>\n",
       "    <tr>\n",
       "      <th>13</th>\n",
       "      <td>90.826726</td>\n",
       "      <td>3.877920</td>\n",
       "      <td>0.737701</td>\n",
       "      <td>0.262299</td>\n",
       "    </tr>\n",
       "    <tr>\n",
       "      <th>14</th>\n",
       "      <td>90.597144</td>\n",
       "      <td>3.916315</td>\n",
       "      <td>0.736130</td>\n",
       "      <td>0.263870</td>\n",
       "    </tr>\n",
       "    <tr>\n",
       "      <th>15</th>\n",
       "      <td>92.487329</td>\n",
       "      <td>3.863935</td>\n",
       "      <td>0.749616</td>\n",
       "      <td>0.250384</td>\n",
       "    </tr>\n",
       "    <tr>\n",
       "      <th>16</th>\n",
       "      <td>92.977112</td>\n",
       "      <td>3.817596</td>\n",
       "      <td>0.762585</td>\n",
       "      <td>0.237415</td>\n",
       "    </tr>\n",
       "    <tr>\n",
       "      <th>17</th>\n",
       "      <td>90.297817</td>\n",
       "      <td>3.762518</td>\n",
       "      <td>0.758622</td>\n",
       "      <td>0.241378</td>\n",
       "    </tr>\n",
       "    <tr>\n",
       "      <th>18</th>\n",
       "      <td>90.924286</td>\n",
       "      <td>3.807176</td>\n",
       "      <td>0.741278</td>\n",
       "      <td>0.258722</td>\n",
       "    </tr>\n",
       "    <tr>\n",
       "      <th>19</th>\n",
       "      <td>92.417086</td>\n",
       "      <td>3.841189</td>\n",
       "      <td>0.731853</td>\n",
       "      <td>0.268147</td>\n",
       "    </tr>\n",
       "    <tr>\n",
       "      <th>20</th>\n",
       "      <td>89.754633</td>\n",
       "      <td>3.801128</td>\n",
       "      <td>0.726954</td>\n",
       "      <td>0.273046</td>\n",
       "    </tr>\n",
       "    <tr>\n",
       "      <th>21</th>\n",
       "      <td>90.659914</td>\n",
       "      <td>3.816775</td>\n",
       "      <td>0.729479</td>\n",
       "      <td>0.270521</td>\n",
       "    </tr>\n",
       "    <tr>\n",
       "      <th>22</th>\n",
       "      <td>91.166356</td>\n",
       "      <td>3.800810</td>\n",
       "      <td>0.739191</td>\n",
       "      <td>0.260809</td>\n",
       "    </tr>\n",
       "    <tr>\n",
       "      <th>23</th>\n",
       "      <td>88.593992</td>\n",
       "      <td>3.824131</td>\n",
       "      <td>0.731142</td>\n",
       "      <td>0.268858</td>\n",
       "    </tr>\n",
       "  </tbody>\n",
       "</table>\n",
       "</div>"
      ],
      "text/plain": [
       "          value  Day of Week  Is Weekday  Is Weekend\n",
       "Hour                                                \n",
       "00    83.224693     3.809129    0.753308    0.246692\n",
       "01    79.996643     3.834664    0.751770    0.248230\n",
       "02    76.431451     3.835547    0.744612    0.255388\n",
       "03    73.508571     3.803566    0.756832    0.243168\n",
       "04    71.064798     3.793712    0.757840    0.242160\n",
       "05    69.516867     3.805116    0.758793    0.241207\n",
       "06    68.762541     3.821905    0.759212    0.240788\n",
       "07    68.950937     3.789403    0.756589    0.243411\n",
       "08    72.739450     3.879019    0.735021    0.264979\n",
       "09    80.289688     3.986074    0.723528    0.276472\n",
       "10    87.236786     4.073271    0.702094    0.297906\n",
       "11    87.301335     4.014797    0.689110    0.310890\n",
       "12    89.808862     3.942018    0.703494    0.296506\n",
       "13    90.826726     3.877920    0.737701    0.262299\n",
       "14    90.597144     3.916315    0.736130    0.263870\n",
       "15    92.487329     3.863935    0.749616    0.250384\n",
       "16    92.977112     3.817596    0.762585    0.237415\n",
       "17    90.297817     3.762518    0.758622    0.241378\n",
       "18    90.924286     3.807176    0.741278    0.258722\n",
       "19    92.417086     3.841189    0.731853    0.268147\n",
       "20    89.754633     3.801128    0.726954    0.273046\n",
       "21    90.659914     3.816775    0.729479    0.270521\n",
       "22    91.166356     3.800810    0.739191    0.260809\n",
       "23    88.593992     3.824131    0.731142    0.268858"
      ]
     },
     "execution_count": 62,
     "metadata": {},
     "output_type": "execute_result"
    }
   ],
   "source": [
    "Hourlydf = final_df.groupby(by='Hour').mean()\n",
    "Hourlydf"
   ]
  },
  {
   "cell_type": "code",
   "execution_count": 68,
   "metadata": {},
   "outputs": [
    {
     "data": {
      "text/plain": [
       "Text(0, 0.5, 'Heart Rate')"
      ]
     },
     "execution_count": 68,
     "metadata": {},
     "output_type": "execute_result"
    },
    {
     "data": {
      "image/png": "[encoded data removed]",
      "text/plain": [
       "<Figure size 864x504 with 2 Axes>"
      ]
     },
     "metadata": {
      "needs_background": "light"
     },
     "output_type": "display_data"
    }
   ],
   "source": [
    "dayCodes = ['', 'Monday', 'Tuesday', 'Wednesday', 'Thursday', 'Friday', 'Saturday', 'Sunday']\n",
    "fig = plt.figure(figsize = (12,7))\n",
    "\n",
    "ax = plt.subplot(121)  \n",
    "Hourlydf = final_df.groupby(by='Hour').mean()\n",
    "meanHeart = Hourlydf['value']\n",
    "\n",
    "plt.plot(meanHeart, linestyle='-', marker='o', markersize=10)\n",
    "\n",
    "ax.spines[\"top\"].set_visible(False)  \n",
    "ax.spines[\"right\"].set_visible(False)  \n",
    "\n",
    "ax.get_xaxis().tick_bottom()  \n",
    "ax.get_yaxis().tick_left()\n",
    "ax.set_ylim([np.min(meanHeart)-10, np.max(meanHeart)+10])\n",
    "plt.xticks(fontsize=10)  \n",
    "plt.yticks(fontsize=14)  \n",
    "\n",
    "plt.title('Heart Rate vs. Hour of the Day', fontsize=15)\n",
    "plt.xlabel(meanHeart.index.name)\n",
    "plt.xlabel('Hour of the Day', fontsize=14)\n",
    "plt.ylabel('Heart Rate', fontsize=14)\n",
    "\n",
    "#############\n",
    "\n",
    "ax2 = fig.add_subplot(122)\n",
    "DOWdf = final_df.groupby(by='Day of Week').mean()\n",
    "meanDOW = DOWdf['value']\n",
    "meanDOW.plot(linestyle='-', marker='o', markersize=10)\n",
    "  \n",
    "ax2.spines[\"top\"].set_visible(False)  \n",
    "ax2.spines[\"right\"].set_visible(False)  \n",
    "\n",
    "ax2.get_xaxis().tick_bottom()  \n",
    "ax2.get_yaxis().tick_left()\n",
    "ax2.set_ylim([np.min(meanHeart)-10, np.max(meanHeart)+10])\n",
    "\n",
    "plt.xticks(fontsize=10)  \n",
    "plt.yticks(fontsize=14)  \n",
    "\n",
    "plt.title('Heart Rate vs. Day of the Week', fontsize=15)\n",
    "plt.xlabel(meanDOW.index.name, fontsize=14)\n",
    "plt.xlabel('Day of the Week')\n",
    "plt.ylabel('Heart Rate', fontsize=14)"
   ]
  },
  {
   "cell_type": "markdown",
   "metadata": {},
   "source": [
    "The drop in heart rate in between 01 to 07 indicates sleeping hours. Day of the week doesn't show much difference on average. "
   ]
  },
  {
   "cell_type": "code",
   "execution_count": 73,
   "metadata": {},
   "outputs": [],
   "source": [
    "final_df['Hour'] = final_df['Hour'].astype(int)\n",
    "Nine_to_fivedf = final_df[(final_df['Hour'] >= 8) & (final_df['Hour'] <= 18) & (final_df['Day of Week'] != 6) & (final_df['Day of Week'] != 7)] \n",
    "Free_timedf = final_df[~((final_df['Hour'] >= 8) & (final_df['Hour'] <= 18) & (final_df['Day of Week'] != 6) & (final_df['Day of Week'] != 7))]"
   ]
  },
  {
   "cell_type": "code",
   "execution_count": 79,
   "metadata": {},
   "outputs": [
    {
     "data": {
      "text/html": [
       "<div>\n",
       "<style scoped>\n",
       "    .dataframe tbody tr th:only-of-type {\n",
       "        vertical-align: middle;\n",
       "    }\n",
       "\n",
       "    .dataframe tbody tr th {\n",
       "        vertical-align: top;\n",
       "    }\n",
       "\n",
       "    .dataframe thead th {\n",
       "        text-align: right;\n",
       "    }\n",
       "</style>\n",
       "<table border=\"1\" class=\"dataframe\">\n",
       "  <thead>\n",
       "    <tr style=\"text-align: right;\">\n",
       "      <th></th>\n",
       "      <th>time</th>\n",
       "      <th>value</th>\n",
       "      <th>Date</th>\n",
       "      <th>Day of Week</th>\n",
       "      <th>Is Weekday</th>\n",
       "      <th>Is Weekend</th>\n",
       "      <th>HourMinute</th>\n",
       "      <th>Hour</th>\n",
       "    </tr>\n",
       "  </thead>\n",
       "  <tbody>\n",
       "    <tr>\n",
       "      <th>7416</th>\n",
       "      <td>11:02:33</td>\n",
       "      <td>104</td>\n",
       "      <td>2020-04-13 11:02:33</td>\n",
       "      <td>1</td>\n",
       "      <td>True</td>\n",
       "      <td>False</td>\n",
       "      <td>11:02</td>\n",
       "      <td>11</td>\n",
       "    </tr>\n",
       "    <tr>\n",
       "      <th>7417</th>\n",
       "      <td>11:02:38</td>\n",
       "      <td>90</td>\n",
       "      <td>2020-04-13 11:02:38</td>\n",
       "      <td>1</td>\n",
       "      <td>True</td>\n",
       "      <td>False</td>\n",
       "      <td>11:02</td>\n",
       "      <td>11</td>\n",
       "    </tr>\n",
       "    <tr>\n",
       "      <th>7418</th>\n",
       "      <td>11:02:43</td>\n",
       "      <td>77</td>\n",
       "      <td>2020-04-13 11:02:43</td>\n",
       "      <td>1</td>\n",
       "      <td>True</td>\n",
       "      <td>False</td>\n",
       "      <td>11:02</td>\n",
       "      <td>11</td>\n",
       "    </tr>\n",
       "    <tr>\n",
       "      <th>7419</th>\n",
       "      <td>11:02:48</td>\n",
       "      <td>109</td>\n",
       "      <td>2020-04-13 11:02:48</td>\n",
       "      <td>1</td>\n",
       "      <td>True</td>\n",
       "      <td>False</td>\n",
       "      <td>11:02</td>\n",
       "      <td>11</td>\n",
       "    </tr>\n",
       "    <tr>\n",
       "      <th>7420</th>\n",
       "      <td>11:02:53</td>\n",
       "      <td>93</td>\n",
       "      <td>2020-04-13 11:02:53</td>\n",
       "      <td>1</td>\n",
       "      <td>True</td>\n",
       "      <td>False</td>\n",
       "      <td>11:02</td>\n",
       "      <td>11</td>\n",
       "    </tr>\n",
       "    <tr>\n",
       "      <th>...</th>\n",
       "      <td>...</td>\n",
       "      <td>...</td>\n",
       "      <td>...</td>\n",
       "      <td>...</td>\n",
       "      <td>...</td>\n",
       "      <td>...</td>\n",
       "      <td>...</td>\n",
       "      <td>...</td>\n",
       "    </tr>\n",
       "    <tr>\n",
       "      <th>615780</th>\n",
       "      <td>18:59:25</td>\n",
       "      <td>95</td>\n",
       "      <td>2020-06-16 18:59:25</td>\n",
       "      <td>2</td>\n",
       "      <td>True</td>\n",
       "      <td>False</td>\n",
       "      <td>18:59</td>\n",
       "      <td>18</td>\n",
       "    </tr>\n",
       "    <tr>\n",
       "      <th>615781</th>\n",
       "      <td>18:59:35</td>\n",
       "      <td>94</td>\n",
       "      <td>2020-06-16 18:59:35</td>\n",
       "      <td>2</td>\n",
       "      <td>True</td>\n",
       "      <td>False</td>\n",
       "      <td>18:59</td>\n",
       "      <td>18</td>\n",
       "    </tr>\n",
       "    <tr>\n",
       "      <th>615782</th>\n",
       "      <td>18:59:40</td>\n",
       "      <td>93</td>\n",
       "      <td>2020-06-16 18:59:40</td>\n",
       "      <td>2</td>\n",
       "      <td>True</td>\n",
       "      <td>False</td>\n",
       "      <td>18:59</td>\n",
       "      <td>18</td>\n",
       "    </tr>\n",
       "    <tr>\n",
       "      <th>615783</th>\n",
       "      <td>18:59:45</td>\n",
       "      <td>92</td>\n",
       "      <td>2020-06-16 18:59:45</td>\n",
       "      <td>2</td>\n",
       "      <td>True</td>\n",
       "      <td>False</td>\n",
       "      <td>18:59</td>\n",
       "      <td>18</td>\n",
       "    </tr>\n",
       "    <tr>\n",
       "      <th>615784</th>\n",
       "      <td>18:59:50</td>\n",
       "      <td>91</td>\n",
       "      <td>2020-06-16 18:59:50</td>\n",
       "      <td>2</td>\n",
       "      <td>True</td>\n",
       "      <td>False</td>\n",
       "      <td>18:59</td>\n",
       "      <td>18</td>\n",
       "    </tr>\n",
       "  </tbody>\n",
       "</table>\n",
       "<p>213624 rows × 8 columns</p>\n",
       "</div>"
      ],
      "text/plain": [
       "            time  value                Date  Day of Week  Is Weekday  \\\n",
       "7416    11:02:33    104 2020-04-13 11:02:33            1        True   \n",
       "7417    11:02:38     90 2020-04-13 11:02:38            1        True   \n",
       "7418    11:02:43     77 2020-04-13 11:02:43            1        True   \n",
       "7419    11:02:48    109 2020-04-13 11:02:48            1        True   \n",
       "7420    11:02:53     93 2020-04-13 11:02:53            1        True   \n",
       "...          ...    ...                 ...          ...         ...   \n",
       "615780  18:59:25     95 2020-06-16 18:59:25            2        True   \n",
       "615781  18:59:35     94 2020-06-16 18:59:35            2        True   \n",
       "615782  18:59:40     93 2020-06-16 18:59:40            2        True   \n",
       "615783  18:59:45     92 2020-06-16 18:59:45            2        True   \n",
       "615784  18:59:50     91 2020-06-16 18:59:50            2        True   \n",
       "\n",
       "        Is Weekend HourMinute  Hour  \n",
       "7416         False      11:02    11  \n",
       "7417         False      11:02    11  \n",
       "7418         False      11:02    11  \n",
       "7419         False      11:02    11  \n",
       "7420         False      11:02    11  \n",
       "...            ...        ...   ...  \n",
       "615780       False      18:59    18  \n",
       "615781       False      18:59    18  \n",
       "615782       False      18:59    18  \n",
       "615783       False      18:59    18  \n",
       "615784       False      18:59    18  \n",
       "\n",
       "[213624 rows x 8 columns]"
      ]
     },
     "execution_count": 79,
     "metadata": {},
     "output_type": "execute_result"
    }
   ],
   "source": [
    "Nine_to_fivedf"
   ]
  },
  {
   "cell_type": "code",
   "execution_count": 75,
   "metadata": {},
   "outputs": [
    {
     "data": {
      "text/html": [
       "<div>\n",
       "<style scoped>\n",
       "    .dataframe tbody tr th:only-of-type {\n",
       "        vertical-align: middle;\n",
       "    }\n",
       "\n",
       "    .dataframe tbody tr th {\n",
       "        vertical-align: top;\n",
       "    }\n",
       "\n",
       "    .dataframe thead th {\n",
       "        text-align: right;\n",
       "    }\n",
       "</style>\n",
       "<table border=\"1\" class=\"dataframe\">\n",
       "  <thead>\n",
       "    <tr style=\"text-align: right;\">\n",
       "      <th></th>\n",
       "      <th>time</th>\n",
       "      <th>value</th>\n",
       "      <th>Date</th>\n",
       "      <th>Day of Week</th>\n",
       "      <th>Is Weekday</th>\n",
       "      <th>Is Weekend</th>\n",
       "      <th>HourMinute</th>\n",
       "      <th>Hour</th>\n",
       "    </tr>\n",
       "  </thead>\n",
       "  <tbody>\n",
       "    <tr>\n",
       "      <th>0</th>\n",
       "      <td>00:00:04</td>\n",
       "      <td>80</td>\n",
       "      <td>2020-04-11 00:00:04</td>\n",
       "      <td>6</td>\n",
       "      <td>False</td>\n",
       "      <td>True</td>\n",
       "      <td>00:00</td>\n",
       "      <td>0</td>\n",
       "    </tr>\n",
       "    <tr>\n",
       "      <th>1</th>\n",
       "      <td>00:00:09</td>\n",
       "      <td>79</td>\n",
       "      <td>2020-04-11 00:00:09</td>\n",
       "      <td>6</td>\n",
       "      <td>False</td>\n",
       "      <td>True</td>\n",
       "      <td>00:00</td>\n",
       "      <td>0</td>\n",
       "    </tr>\n",
       "    <tr>\n",
       "      <th>2</th>\n",
       "      <td>00:00:14</td>\n",
       "      <td>78</td>\n",
       "      <td>2020-04-11 00:00:14</td>\n",
       "      <td>6</td>\n",
       "      <td>False</td>\n",
       "      <td>True</td>\n",
       "      <td>00:00</td>\n",
       "      <td>0</td>\n",
       "    </tr>\n",
       "    <tr>\n",
       "      <th>3</th>\n",
       "      <td>00:00:29</td>\n",
       "      <td>80</td>\n",
       "      <td>2020-04-11 00:00:29</td>\n",
       "      <td>6</td>\n",
       "      <td>False</td>\n",
       "      <td>True</td>\n",
       "      <td>00:00</td>\n",
       "      <td>0</td>\n",
       "    </tr>\n",
       "    <tr>\n",
       "      <th>4</th>\n",
       "      <td>00:00:34</td>\n",
       "      <td>81</td>\n",
       "      <td>2020-04-11 00:00:34</td>\n",
       "      <td>6</td>\n",
       "      <td>False</td>\n",
       "      <td>True</td>\n",
       "      <td>00:00</td>\n",
       "      <td>0</td>\n",
       "    </tr>\n",
       "    <tr>\n",
       "      <th>...</th>\n",
       "      <td>...</td>\n",
       "      <td>...</td>\n",
       "      <td>...</td>\n",
       "      <td>...</td>\n",
       "      <td>...</td>\n",
       "      <td>...</td>\n",
       "      <td>...</td>\n",
       "      <td>...</td>\n",
       "    </tr>\n",
       "    <tr>\n",
       "      <th>618018</th>\n",
       "      <td>23:48:37</td>\n",
       "      <td>78</td>\n",
       "      <td>2020-06-16 23:48:37</td>\n",
       "      <td>2</td>\n",
       "      <td>True</td>\n",
       "      <td>False</td>\n",
       "      <td>23:48</td>\n",
       "      <td>23</td>\n",
       "    </tr>\n",
       "    <tr>\n",
       "      <th>618019</th>\n",
       "      <td>23:48:42</td>\n",
       "      <td>76</td>\n",
       "      <td>2020-06-16 23:48:42</td>\n",
       "      <td>2</td>\n",
       "      <td>True</td>\n",
       "      <td>False</td>\n",
       "      <td>23:48</td>\n",
       "      <td>23</td>\n",
       "    </tr>\n",
       "    <tr>\n",
       "      <th>618020</th>\n",
       "      <td>23:48:47</td>\n",
       "      <td>76</td>\n",
       "      <td>2020-06-16 23:48:47</td>\n",
       "      <td>2</td>\n",
       "      <td>True</td>\n",
       "      <td>False</td>\n",
       "      <td>23:48</td>\n",
       "      <td>23</td>\n",
       "    </tr>\n",
       "    <tr>\n",
       "      <th>618021</th>\n",
       "      <td>23:48:52</td>\n",
       "      <td>77</td>\n",
       "      <td>2020-06-16 23:48:52</td>\n",
       "      <td>2</td>\n",
       "      <td>True</td>\n",
       "      <td>False</td>\n",
       "      <td>23:48</td>\n",
       "      <td>23</td>\n",
       "    </tr>\n",
       "    <tr>\n",
       "      <th>618022</th>\n",
       "      <td>23:49:07</td>\n",
       "      <td>76</td>\n",
       "      <td>2020-06-16 23:49:07</td>\n",
       "      <td>2</td>\n",
       "      <td>True</td>\n",
       "      <td>False</td>\n",
       "      <td>23:49</td>\n",
       "      <td>23</td>\n",
       "    </tr>\n",
       "  </tbody>\n",
       "</table>\n",
       "<p>404399 rows × 8 columns</p>\n",
       "</div>"
      ],
      "text/plain": [
       "            time  value                Date  Day of Week  Is Weekday  \\\n",
       "0       00:00:04     80 2020-04-11 00:00:04            6       False   \n",
       "1       00:00:09     79 2020-04-11 00:00:09            6       False   \n",
       "2       00:00:14     78 2020-04-11 00:00:14            6       False   \n",
       "3       00:00:29     80 2020-04-11 00:00:29            6       False   \n",
       "4       00:00:34     81 2020-04-11 00:00:34            6       False   \n",
       "...          ...    ...                 ...          ...         ...   \n",
       "618018  23:48:37     78 2020-06-16 23:48:37            2        True   \n",
       "618019  23:48:42     76 2020-06-16 23:48:42            2        True   \n",
       "618020  23:48:47     76 2020-06-16 23:48:47            2        True   \n",
       "618021  23:48:52     77 2020-06-16 23:48:52            2        True   \n",
       "618022  23:49:07     76 2020-06-16 23:49:07            2        True   \n",
       "\n",
       "        Is Weekend HourMinute  Hour  \n",
       "0             True      00:00     0  \n",
       "1             True      00:00     0  \n",
       "2             True      00:00     0  \n",
       "3             True      00:00     0  \n",
       "4             True      00:00     0  \n",
       "...            ...        ...   ...  \n",
       "618018       False      23:48    23  \n",
       "618019       False      23:48    23  \n",
       "618020       False      23:48    23  \n",
       "618021       False      23:48    23  \n",
       "618022       False      23:49    23  \n",
       "\n",
       "[404399 rows x 8 columns]"
      ]
     },
     "execution_count": 75,
     "metadata": {},
     "output_type": "execute_result"
    }
   ],
   "source": [
    "Free_timedf"
   ]
  },
  {
   "cell_type": "code",
   "execution_count": null,
   "metadata": {},
   "outputs": [],
   "source": [
    "print('HR when Awake: '+str(round(Nine_to_fivedf['value'].mean(),2)))\n",
    "print('HR when Awake: '+str(round(Free_timedf['value'].mean(),2)))"
   ]
  },
  {
   "cell_type": "code",
   "execution_count": 83,
   "metadata": {},
   "outputs": [
    {
     "name": "stdout",
     "output_type": "stream",
     "text": [
      "HR when Free & Awake: 88.13\n",
      "HR when Free & Asleep: 77.04\n"
     ]
    }
   ],
   "source": [
    "Free_time_wokedf = Free_timedf[(Free_timedf['Hour']>=17)|(Free_timedf['Hour']<=1)]\n",
    "Free_time_sleepdf = Free_timedf[~(Free_timedf['Hour']>=17)|(Free_timedf['Hour']<=1)]\n",
    "print('HR when Free & Awake: '+str(round(Free_time_wokedf['value'].mean(),2)))\n",
    "print('HR when Free & Asleep: '+str(round(Free_time_sleepdf['value'].mean(),2)))"
   ]
  },
  {
   "cell_type": "code",
   "execution_count": 91,
   "metadata": {},
   "outputs": [
    {
     "name": "stderr",
     "output_type": "stream",
     "text": [
      "/home/abdulkk49/.local/lib/python3.6/site-packages/ipykernel_launcher.py:4: MatplotlibDeprecationWarning: Adding an axes using the same arguments as a previous axes currently reuses the earlier instance.  In a future version, a new instance will always be created and returned.  Meanwhile, this warning can be suppressed, and the future behavior ensured, by passing a unique label to each axes instance.\n",
      "  after removing the cwd from sys.path.\n"
     ]
    },
    {
     "data": {
      "text/plain": [
       "Text(0.5, 0, 'Day of the Week')"
      ]
     },
     "execution_count": 91,
     "metadata": {},
     "output_type": "execute_result"
    },
    {
     "data": {
      "text/plain": [
       "<Figure size 864x504 with 0 Axes>"
      ]
     },
     "metadata": {},
     "output_type": "display_data"
    },
    {
     "data": {
      "image/png": "[encoded data removed]",
      "text/plain": [
       "<Figure size 432x288 with 1 Axes>"
      ]
     },
     "metadata": {
      "needs_background": "light"
     },
     "output_type": "display_data"
    }
   ],
   "source": [
    "fig = plt.figure(figsize = (12,7))\n",
    "Free_time_wokedf.boxplot(column = 'value', by = 'Day of Week')\n",
    "\n",
    "ax = plt.subplot(111)  \n",
    "ax.spines[\"top\"].set_visible(False)  \n",
    "ax.spines[\"right\"].set_visible(False) \n",
    "ax.set_ylim([0, 180])\n",
    "plt.xticks(fontsize=10)  \n",
    "plt.yticks(fontsize=14) \n",
    "\n",
    "plt.title('')\n",
    "plt.suptitle('Day of the Week Heart Rate Boxplot')\n",
    "plt.ylabel('Heart Rate')\n",
    "plt.xlabel('Day of the Week')"
   ]
  },
  {
   "cell_type": "markdown",
   "metadata": {},
   "source": [
    "Further recommendations:\n",
    "We can use machine learning models to fill in the missing values.\n",
    "Also, further analyses could have been drawn if sleeping patterns, work hours of someone are known before hand."
   ]
  },
  {
   "cell_type": "code",
   "execution_count": null,
   "metadata": {},
   "outputs": [],
   "source": []
  }
 ],
 "metadata": {
  "kernelspec": {
   "display_name": "Python 3",
   "language": "python",
   "name": "python3"
  },
  "language_info": {
   "codemirror_mode": {
    "name": "ipython",
    "version": 3
   },
   "file_extension": ".py",
   "mimetype": "text/x-python",
   "name": "python",
   "nbconvert_exporter": "python",
   "pygments_lexer": "ipython3",
   "version": "3.6.9"
  }
 },
 "nbformat": 4,
 "nbformat_minor": 2
}
